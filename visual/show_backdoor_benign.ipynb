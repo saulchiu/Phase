{
 "cells": [
  {
   "cell_type": "code",
   "execution_count": 2,
   "metadata": {},
   "outputs": [],
   "source": [
    "import sys\n",
    "sys.path.append('../')\n",
    "import torch\n",
    "from tools.utils import manual_seed\n",
    "import PIL\n",
    "import PIL.Image\n",
    "\n",
    "import numpy as np\n",
    "import matplotlib.pyplot as plt\n",
    "from tools.img import rgb2yuv, yuv2rgb, rgb_to_yuv, yuv_to_rgb\n",
    "from torchvision.transforms.transforms import ToTensor\n",
    "from tools.dataset import get_dataloader, get_dataset_class_and_scale, get_dataset_normalization, get_de_normalization\n",
    "from omegaconf import OmegaConf\n",
    "from tools.img import tensor2ndarray, ndarray2tensor\n",
    "from torchmetrics import StructuralSimilarityIndexMeasure\n",
    "from tools.dataset import get_dataloader\n",
    "# from tools.inject_backdoor import patch_trigger\n",
    "\n",
    "manual_seed(42)\n",
    "loss = StructuralSimilarityIndexMeasure"
   ]
  },
  {
   "cell_type": "code",
   "execution_count": 3,
   "metadata": {},
   "outputs": [
    {
     "name": "stdout",
     "output_type": "stream",
     "text": [
      "RepVGG Block, identity =  None\n",
      "RepVGG Block, identity =  None\n",
      "RepVGG Block, identity =  BatchNorm2d(96, eps=1e-05, momentum=0.1, affine=True, track_running_stats=True)\n",
      "RepVGG Block, identity =  None\n",
      "RepVGG Block, identity =  BatchNorm2d(192, eps=1e-05, momentum=0.1, affine=True, track_running_stats=True)\n",
      "RepVGG Block, identity =  BatchNorm2d(192, eps=1e-05, momentum=0.1, affine=True, track_running_stats=True)\n",
      "RepVGG Block, identity =  BatchNorm2d(192, eps=1e-05, momentum=0.1, affine=True, track_running_stats=True)\n",
      "RepVGG Block, identity =  None\n",
      "RepVGG Block, identity =  BatchNorm2d(384, eps=1e-05, momentum=0.1, affine=True, track_running_stats=True)\n",
      "RepVGG Block, identity =  BatchNorm2d(384, eps=1e-05, momentum=0.1, affine=True, track_running_stats=True)\n",
      "RepVGG Block, identity =  BatchNorm2d(384, eps=1e-05, momentum=0.1, affine=True, track_running_stats=True)\n",
      "RepVGG Block, identity =  BatchNorm2d(384, eps=1e-05, momentum=0.1, affine=True, track_running_stats=True)\n",
      "RepVGG Block, identity =  BatchNorm2d(384, eps=1e-05, momentum=0.1, affine=True, track_running_stats=True)\n",
      "RepVGG Block, identity =  BatchNorm2d(384, eps=1e-05, momentum=0.1, affine=True, track_running_stats=True)\n",
      "RepVGG Block, identity =  BatchNorm2d(384, eps=1e-05, momentum=0.1, affine=True, track_running_stats=True)\n",
      "RepVGG Block, identity =  BatchNorm2d(384, eps=1e-05, momentum=0.1, affine=True, track_running_stats=True)\n",
      "RepVGG Block, identity =  BatchNorm2d(384, eps=1e-05, momentum=0.1, affine=True, track_running_stats=True)\n",
      "RepVGG Block, identity =  BatchNorm2d(384, eps=1e-05, momentum=0.1, affine=True, track_running_stats=True)\n",
      "RepVGG Block, identity =  BatchNorm2d(384, eps=1e-05, momentum=0.1, affine=True, track_running_stats=True)\n",
      "RepVGG Block, identity =  BatchNorm2d(384, eps=1e-05, momentum=0.1, affine=True, track_running_stats=True)\n",
      "RepVGG Block, identity =  BatchNorm2d(384, eps=1e-05, momentum=0.1, affine=True, track_running_stats=True)\n",
      "RepVGG Block, identity =  None\n"
     ]
    },
    {
     "name": "stderr",
     "output_type": "stream",
     "text": [
      "/tmp/ipykernel_2011755/2964516636.py:19: FutureWarning: You are using `torch.load` with `weights_only=False` (the current default value), which uses the default pickle module implicitly. It is possible to construct malicious pickle data which will execute arbitrary code during unpickling (See https://github.com/pytorch/pytorch/blob/main/SECURITY.md#untrusted-models for more details). In a future release, the default value for `weights_only` will be flipped to `True`. This limits the functions that could be executed during unpickling. Arbitrary objects will no longer be allowed to be loaded via this mode unless they are explicitly allowlisted by the user via `torch.serialization.add_safe_globals`. We recommend you start setting `weights_only=True` for any use case where you don't have full control of the loaded file. Please open an issue on GitHub for any issues related to this experimental feature.\n",
      "  ld = torch.load(f'{target_folder}/results.pth', map_location=device)\n"
     ]
    },
    {
     "data": {
      "text/plain": [
       "RepVGG(\n",
       "  (stage0): RepVGGBlock(\n",
       "    (nonlinearity): ReLU()\n",
       "    (se): Identity()\n",
       "    (rbr_dense): Sequential(\n",
       "      (conv): Conv2d(3, 64, kernel_size=(3, 3), stride=(2, 2), padding=(1, 1), bias=False)\n",
       "      (bn): BatchNorm2d(64, eps=1e-05, momentum=0.1, affine=True, track_running_stats=True)\n",
       "    )\n",
       "    (rbr_1x1): Sequential(\n",
       "      (conv): Conv2d(3, 64, kernel_size=(1, 1), stride=(2, 2), bias=False)\n",
       "      (bn): BatchNorm2d(64, eps=1e-05, momentum=0.1, affine=True, track_running_stats=True)\n",
       "    )\n",
       "  )\n",
       "  (stage1): ModuleList(\n",
       "    (0): RepVGGBlock(\n",
       "      (nonlinearity): ReLU()\n",
       "      (se): Identity()\n",
       "      (rbr_dense): Sequential(\n",
       "        (conv): Conv2d(64, 96, kernel_size=(3, 3), stride=(2, 2), padding=(1, 1), bias=False)\n",
       "        (bn): BatchNorm2d(96, eps=1e-05, momentum=0.1, affine=True, track_running_stats=True)\n",
       "      )\n",
       "      (rbr_1x1): Sequential(\n",
       "        (conv): Conv2d(64, 96, kernel_size=(1, 1), stride=(2, 2), bias=False)\n",
       "        (bn): BatchNorm2d(96, eps=1e-05, momentum=0.1, affine=True, track_running_stats=True)\n",
       "      )\n",
       "    )\n",
       "    (1): RepVGGBlock(\n",
       "      (nonlinearity): ReLU()\n",
       "      (se): Identity()\n",
       "      (rbr_identity): BatchNorm2d(96, eps=1e-05, momentum=0.1, affine=True, track_running_stats=True)\n",
       "      (rbr_dense): Sequential(\n",
       "        (conv): Conv2d(96, 96, kernel_size=(3, 3), stride=(1, 1), padding=(1, 1), bias=False)\n",
       "        (bn): BatchNorm2d(96, eps=1e-05, momentum=0.1, affine=True, track_running_stats=True)\n",
       "      )\n",
       "      (rbr_1x1): Sequential(\n",
       "        (conv): Conv2d(96, 96, kernel_size=(1, 1), stride=(1, 1), bias=False)\n",
       "        (bn): BatchNorm2d(96, eps=1e-05, momentum=0.1, affine=True, track_running_stats=True)\n",
       "      )\n",
       "    )\n",
       "  )\n",
       "  (stage2): ModuleList(\n",
       "    (0): RepVGGBlock(\n",
       "      (nonlinearity): ReLU()\n",
       "      (se): Identity()\n",
       "      (rbr_dense): Sequential(\n",
       "        (conv): Conv2d(96, 192, kernel_size=(3, 3), stride=(2, 2), padding=(1, 1), bias=False)\n",
       "        (bn): BatchNorm2d(192, eps=1e-05, momentum=0.1, affine=True, track_running_stats=True)\n",
       "      )\n",
       "      (rbr_1x1): Sequential(\n",
       "        (conv): Conv2d(96, 192, kernel_size=(1, 1), stride=(2, 2), bias=False)\n",
       "        (bn): BatchNorm2d(192, eps=1e-05, momentum=0.1, affine=True, track_running_stats=True)\n",
       "      )\n",
       "    )\n",
       "    (1-3): 3 x RepVGGBlock(\n",
       "      (nonlinearity): ReLU()\n",
       "      (se): Identity()\n",
       "      (rbr_identity): BatchNorm2d(192, eps=1e-05, momentum=0.1, affine=True, track_running_stats=True)\n",
       "      (rbr_dense): Sequential(\n",
       "        (conv): Conv2d(192, 192, kernel_size=(3, 3), stride=(1, 1), padding=(1, 1), bias=False)\n",
       "        (bn): BatchNorm2d(192, eps=1e-05, momentum=0.1, affine=True, track_running_stats=True)\n",
       "      )\n",
       "      (rbr_1x1): Sequential(\n",
       "        (conv): Conv2d(192, 192, kernel_size=(1, 1), stride=(1, 1), bias=False)\n",
       "        (bn): BatchNorm2d(192, eps=1e-05, momentum=0.1, affine=True, track_running_stats=True)\n",
       "      )\n",
       "    )\n",
       "  )\n",
       "  (stage3): ModuleList(\n",
       "    (0): RepVGGBlock(\n",
       "      (nonlinearity): ReLU()\n",
       "      (se): Identity()\n",
       "      (rbr_dense): Sequential(\n",
       "        (conv): Conv2d(192, 384, kernel_size=(3, 3), stride=(2, 2), padding=(1, 1), bias=False)\n",
       "        (bn): BatchNorm2d(384, eps=1e-05, momentum=0.1, affine=True, track_running_stats=True)\n",
       "      )\n",
       "      (rbr_1x1): Sequential(\n",
       "        (conv): Conv2d(192, 384, kernel_size=(1, 1), stride=(2, 2), bias=False)\n",
       "        (bn): BatchNorm2d(384, eps=1e-05, momentum=0.1, affine=True, track_running_stats=True)\n",
       "      )\n",
       "    )\n",
       "    (1-13): 13 x RepVGGBlock(\n",
       "      (nonlinearity): ReLU()\n",
       "      (se): Identity()\n",
       "      (rbr_identity): BatchNorm2d(384, eps=1e-05, momentum=0.1, affine=True, track_running_stats=True)\n",
       "      (rbr_dense): Sequential(\n",
       "        (conv): Conv2d(384, 384, kernel_size=(3, 3), stride=(1, 1), padding=(1, 1), bias=False)\n",
       "        (bn): BatchNorm2d(384, eps=1e-05, momentum=0.1, affine=True, track_running_stats=True)\n",
       "      )\n",
       "      (rbr_1x1): Sequential(\n",
       "        (conv): Conv2d(384, 384, kernel_size=(1, 1), stride=(1, 1), bias=False)\n",
       "        (bn): BatchNorm2d(384, eps=1e-05, momentum=0.1, affine=True, track_running_stats=True)\n",
       "      )\n",
       "    )\n",
       "  )\n",
       "  (stage4): ModuleList(\n",
       "    (0): RepVGGBlock(\n",
       "      (nonlinearity): ReLU()\n",
       "      (se): Identity()\n",
       "      (rbr_dense): Sequential(\n",
       "        (conv): Conv2d(384, 1408, kernel_size=(3, 3), stride=(2, 2), padding=(1, 1), bias=False)\n",
       "        (bn): BatchNorm2d(1408, eps=1e-05, momentum=0.1, affine=True, track_running_stats=True)\n",
       "      )\n",
       "      (rbr_1x1): Sequential(\n",
       "        (conv): Conv2d(384, 1408, kernel_size=(1, 1), stride=(2, 2), bias=False)\n",
       "        (bn): BatchNorm2d(1408, eps=1e-05, momentum=0.1, affine=True, track_running_stats=True)\n",
       "      )\n",
       "    )\n",
       "  )\n",
       "  (gap): AdaptiveAvgPool2d(output_size=1)\n",
       "  (linear): Linear(in_features=1408, out_features=10, bias=True)\n",
       ")"
      ]
     },
     "execution_count": 3,
     "metadata": {},
     "output_type": "execute_result"
    }
   ],
   "source": [
    "target_folder = '/home/chengyiqiu/code/INBA/results/cifar10/phase/repvgg/20241130132956_rm_mix_is_OK'\n",
    "path = f'{target_folder}/config.yaml'\n",
    "config = OmegaConf.load(path)\n",
    "manual_seed(config.seed)\n",
    "\n",
    "device = f'cuda:{config.device}'\n",
    "num_class, scale = get_dataset_class_and_scale(config.dataset_name)\n",
    "if config.model == \"resnet18\":\n",
    "    from models.preact_resnet import PreActResNet18\n",
    "    net = PreActResNet18(num_classes=num_class).to(f'cuda:{config.device}')\n",
    "elif config.model == \"rnp\":\n",
    "    from models.resnet_cifar import resnet18\n",
    "    net = resnet18(num_classes=num_class).to(f'cuda:{config.device}')\n",
    "elif config.model == \"repvgg\":\n",
    "    from repvgg_pytorch.repvgg import RepVGG\n",
    "    net = RepVGG(num_blocks=[2, 4, 14, 1], num_classes=num_class, width_multiplier=[1.5, 1.5, 1.5, 2.75]).to(device=f'cuda:{config.device}')\n",
    "else:\n",
    "    raise NotImplementedError(config.model)\n",
    "ld = torch.load(f'{target_folder}/results.pth', map_location=device)\n",
    "net.load_state_dict(ld['model'])\n",
    "net.to(device)"
   ]
  },
  {
   "cell_type": "markdown",
   "metadata": {},
   "source": [
    "Load a example image and plot RGB channels."
   ]
  },
  {
   "cell_type": "markdown",
   "metadata": {},
   "source": [
    "Convert the RGB image to YUV channels, and plot them."
   ]
  },
  {
   "cell_type": "markdown",
   "metadata": {},
   "source": [
    "Use INBA to add pertubation to the imaginary part of U channel after FFT."
   ]
  },
  {
   "cell_type": "markdown",
   "metadata": {},
   "source": []
  },
  {
   "cell_type": "code",
   "execution_count": 7,
   "metadata": {},
   "outputs": [
    {
     "name": "stdout",
     "output_type": "stream",
     "text": [
      "Files already downloaded and verified\n",
      "Files already downloaded and verified\n",
      "1\n",
      "0\n",
      "tensor([[0.6275, 0.7255, 0.8196],\n",
      "        [0.8824, 0.9373, 0.9490],\n",
      "        [0.9882, 0.9765, 0.9451]], device='cuda:0')\n",
      "tensor([[0.6274, 0.7254, 0.8195],\n",
      "        [0.8823, 0.9372, 0.9489],\n",
      "        [0.9842, 0.9764, 0.9450]], device='cuda:0')\n"
     ]
    },
    {
     "data": {
      "image/png": "[encoded data removed]",
      "text/plain": [
       "<Figure size 1500x1000 with 2 Axes>"
      ]
     },
     "metadata": {},
     "output_type": "display_data"
    },
    {
     "name": "stdout",
     "output_type": "stream",
     "text": [
      "ssim: 0.9904812574386597\n"
     ]
    }
   ],
   "source": [
    "_, dl = get_dataloader(config.dataset_name, config.batch, config.pin_memory, config.num_workers)\n",
    "de_norm = get_de_normalization(config.dataset_name)\n",
    "do_norm = get_dataset_normalization(config.dataset_name)\n",
    "x_c = None\n",
    "for batch, label in dl:\n",
    "    for i in range(batch.shape[0]):\n",
    "        if label[i] == 1:\n",
    "            x_c = batch[i]\n",
    "            break\n",
    "    if x_c != None:\n",
    "        break\n",
    "\n",
    "sys.path.append('./run')\n",
    "sys.path.append(target_folder)\n",
    "from inject_backdoor import patch_trigger\n",
    "x_c = de_norm(x_c).squeeze()\n",
    "x_p = patch_trigger(x_c, config)\n",
    "x_p.clip_(0, 1)\n",
    "x_p = do_norm(x_p)\n",
    "x_c = do_norm(x_c)\n",
    "\n",
    "x_c = x_c.to(device)\n",
    "x_p = x_p.to(device)\n",
    "\n",
    "if config.model == 'repvgg':\n",
    "    net.deploy = True\n",
    "net.eval()\n",
    "with torch.no_grad():\n",
    "    out_c = net(x_c.unsqueeze(0))\n",
    "    out_p = net(x_p.unsqueeze(0))\n",
    "    _, y_c = torch.max(out_c, 1)\n",
    "    _, y_p = torch.max(out_p, 1)\n",
    "\n",
    "\n",
    "x_c = de_norm(x_c).squeeze()\n",
    "x_p = de_norm(x_p).squeeze()\n",
    "\n",
    "\n",
    "print(y_c.item())\n",
    "print(y_p.item())\n",
    "\n",
    "print(x_c[0, 0:3, 0:3])\n",
    "print(x_p[0, 0:3, 0:3])\n",
    "\n",
    "_, ax = plt.subplots(1, 2, figsize=(15, 10))\n",
    "ax[0].imshow(tensor2ndarray(x_c))\n",
    "ax[0].axis('off')\n",
    "ax[1].imshow(tensor2ndarray(x_p))\n",
    "ax[1].axis('off')\n",
    "plt.show()\n",
    "ssim_metric = loss(data_range=1.0).to(device)(x_c.unsqueeze(0), x_p.unsqueeze(0))\n",
    "print(f'ssim: {ssim_metric}')"
   ]
  }
 ],
 "metadata": {
  "kernelspec": {
   "display_name": "INBA",
   "language": "python",
   "name": "python3"
  },
  "language_info": {
   "codemirror_mode": {
    "name": "ipython",
    "version": 3
   },
   "file_extension": ".py",
   "mimetype": "text/x-python",
   "name": "python",
   "nbconvert_exporter": "python",
   "pygments_lexer": "ipython3",
   "version": "3.10.15"
  }
 },
 "nbformat": 4,
 "nbformat_minor": 2
}
