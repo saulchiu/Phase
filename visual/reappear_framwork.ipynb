{
 "cells": [
  {
   "cell_type": "code",
   "execution_count": 28,
   "metadata": {},
   "outputs": [],
   "source": [
    "import sys\n",
    "sys.path.append('../')\n",
    "from tools.utils import rm_if_exist\n",
    "from tools.img import rgb_to_yuv, yuv_to_rgb\n",
    "import torch\n",
    "import PIL\n",
    "import numpy as np\n",
    "import os\n",
    "import pywt\n",
    "from tools.img import tensor2ndarray, ndarray2tensor"
   ]
  },
  {
   "cell_type": "code",
   "execution_count": 29,
   "metadata": {},
   "outputs": [
    {
     "name": "stdout",
     "output_type": "stream",
     "text": [
      "Folder './franwork/' has been removed.\n"
     ]
    }
   ],
   "source": [
    "import PIL.Image\n",
    "\n",
    "\n",
    "img = PIL.Image.open('/home/chengyiqiu/code/INBA/data/imagenette2/train/n02102040/ILSVRC2012_val_00008334.JPEG')\n",
    "img = img.resize((224, 224))\n",
    "x_0 = np.array(img)\n",
    "rm_if_exist('./franwork/')\n",
    "os.makedirs('./franwork/')\n",
    "PIL.Image.Image.save(img, f'./franwork/0_clean.jpeg')"
   ]
  },
  {
   "cell_type": "code",
   "execution_count": 30,
   "metadata": {},
   "outputs": [],
   "source": [
    "coeff = pywt.wavedec2(x_0, wavelet='haar', level=1, axes=(0, 1))\n",
    "LL = coeff[0]\n",
    "(LH, HL, HH) = coeff[-1]\n",
    "\n",
    "# for show to clip\n",
    "# LL = LL.clip(0, 255)\n",
    "# HH = HH.clip(0, 255)\n",
    "PIL.Image.Image.save(PIL.Image.fromarray(LL.astype(np.uint8)), f'./franwork/1_LL.jpeg')\n",
    "PIL.Image.Image.save(PIL.Image.fromarray(HH.astype(np.uint8)), f'./franwork/2_HH.jpeg')"
   ]
  },
  {
   "cell_type": "code",
   "execution_count": 31,
   "metadata": {},
   "outputs": [],
   "source": [
    "def inject_trigger(target, window_size, trigger_size, phase_trigger, ch_list=[1, 2], mode='train'):\n",
    "    for ch in ch_list:\n",
    "        for i in range(0, target.shape[0], window_size):\n",
    "            for j in range(0, target.shape[1], window_size):\n",
    "                tmp = target[i:i+window_size, j:j+window_size, ch]\n",
    "                tmp_fft = np.fft.fft2(tmp, axes=(0, 1))\n",
    "                amp, pha = np.abs(tmp_fft), np.angle(tmp_fft)\n",
    "                PIL.Image.Image.save(PIL.Image.fromarray(pha.astype(np.uint8)), f'./franwork/5_pha.jpeg')\n",
    "                pha[-1-trigger_size:-1, -1-trigger_size:-1] = phase_trigger\n",
    "                PIL.Image.Image.save(PIL.Image.fromarray(pha.astype(np.uint8)), f'./franwork/6_pha_P.jpeg')\n",
    "                tmp_fft = amp * np.exp(1j * pha)\n",
    "                tmp = np.fft.ifft2(tmp_fft, axes=(0, 1))\n",
    "                tmp = tmp.real\n",
    "                target[i:i+window_size, j:j+window_size, ch] = tmp\n",
    "    return target\n",
    "\n",
    "window_size = 4\n",
    "trigger_size = 2\n",
    "phase_trigger = -np.pi\n",
    "ch_list = [1]\n",
    "\n",
    "HH_yuv = np.stack(rgb_to_yuv(HH[:,:,0], HH[:,:,1], HH[:,:,2]), axis=-1)\n",
    "LL_yuv = np.stack(rgb_to_yuv(LL[:,:,0], LL[:,:,1], LL[:,:,2]), axis=-1)\n",
    "PIL.Image.Image.save(PIL.Image.fromarray(LL_yuv[:, :, 1].astype(np.uint8)), f'./franwork/3_LL_U.jpeg')\n",
    "PIL.Image.Image.save(PIL.Image.fromarray(HH_yuv[:, :, 1].astype(np.uint8)), f'./franwork/4_HH_U.jpeg')\n",
    "\n",
    "\n",
    "HH_yuv = inject_trigger(HH_yuv, window_size, trigger_size, phase_trigger, ch_list)\n",
    "LL_yuv = inject_trigger(LL_yuv, window_size, trigger_size, phase_trigger, ch_list)\n",
    "HH = np.stack(yuv_to_rgb(HH_yuv[:,:,0], HH_yuv[:,:,1], HH_yuv[:,:,2]), axis=-1)\n",
    "LL = np.stack(yuv_to_rgb(LL_yuv[:,:,0], LL_yuv[:,:,1], LL_yuv[:,:,2]), axis=-1) \n",
    "\n",
    "PIL.Image.Image.save(PIL.Image.fromarray(LL_yuv[:, :, 1].astype(np.uint8)), f'./franwork/7_LL_U_P.jpeg')\n",
    "PIL.Image.Image.save(PIL.Image.fromarray(HH_yuv[:, :, 1].astype(np.uint8)), f'./franwork/8_HH_U_P.jpeg')\n"
   ]
  },
  {
   "cell_type": "code",
   "execution_count": 32,
   "metadata": {},
   "outputs": [],
   "source": [
    "coeff[0] = LL\n",
    "coeff[-1] = (LH, HL, HH)\n",
    "x_p = pywt.waverec2(coeff, wavelet='haar', axes=(0, 1))\n",
    "x_p = x_p.clip(0, 255)\n",
    "PIL.Image.Image.save(PIL.Image.fromarray(x_p.astype(np.uint8)), f'./franwork/9_x_p.jpeg')"
   ]
  },
  {
   "cell_type": "code",
   "execution_count": 33,
   "metadata": {},
   "outputs": [
    {
     "name": "stdout",
     "output_type": "stream",
     "text": [
      "<class 'numpy.ndarray'>\n"
     ]
    }
   ],
   "source": [
    "def zero_out_array(array, ratio):\n",
    "    size = array.size\n",
    "    num_zero = int(size * ratio)\n",
    "    indices = np.random.permutation(size)[:num_zero]\n",
    "    flat_array = array.flatten()\n",
    "    flat_array[indices] = 0\n",
    "    return flat_array.reshape(array.shape)\n",
    "tg = x_p - x_0\n",
    "PIL.Image.Image.save(PIL.Image.fromarray(tg.astype(np.uint8)), f'./franwork/10_tg.jpeg')\n",
    "tg = zero_out_array(tg, 0.4)\n",
    "x_p = x_0 + tg\n",
    "PIL.Image.Image.save(PIL.Image.fromarray(tg.astype(np.uint8)), f'./franwork/11_tg_m.jpeg')\n",
    "PIL.Image.Image.save(PIL.Image.fromarray(x_p.astype(np.uint8)), f'./franwork/12_x_p.jpeg')\n",
    "print(type(x_p))"
   ]
  },
  {
   "cell_type": "code",
   "execution_count": 34,
   "metadata": {},
   "outputs": [],
   "source": [
    "u_noise = np.random.uniform(0, 255, size=x_p.shape)\n",
    "x_p_enhanced = x_p + 0.05 * u_noise\n",
    "PIL.Image.Image.save(PIL.Image.fromarray(u_noise.astype(np.uint8)), f'./franwork/13_uniform_noise.jpeg')\n",
    "PIL.Image.Image.save(PIL.Image.fromarray(x_p_enhanced.astype(np.uint8)), f'./franwork/14_x_p_enhanced.jpeg')"
   ]
  }
 ],
 "metadata": {
  "kernelspec": {
   "display_name": "INBA",
   "language": "python",
   "name": "python3"
  },
  "language_info": {
   "codemirror_mode": {
    "name": "ipython",
    "version": 3
   },
   "file_extension": ".py",
   "mimetype": "text/x-python",
   "name": "python",
   "nbconvert_exporter": "python",
   "pygments_lexer": "ipython3",
   "version": "3.10.15"
  }
 },
 "nbformat": 4,
 "nbformat_minor": 2
}
