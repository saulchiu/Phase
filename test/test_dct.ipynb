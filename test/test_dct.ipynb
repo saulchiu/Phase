{
 "cells": [
  {
   "metadata": {
    "ExecuteTime": {
     "end_time": "2024-09-12T00:12:22.160122Z",
     "start_time": "2024-09-12T00:12:02.120579Z"
    }
   },
   "cell_type": "code",
   "source": [
    "import numpy as np\n",
    "\n",
    "def alpha(p):\n",
    "    \"\"\"Returns the alpha coefficient for the DCT formula\"\"\"\n",
    "    return 1.0 / np.sqrt(2.0) if p == 0 else 1.0\n",
    "\n",
    "def dct_2d_channel_block(image_block):\n",
    "    \"\"\"Performs 2D DCT on a single block (e.g., 8x8) of the image\"\"\"\n",
    "    w, h = image_block.shape\n",
    "    dct_block = np.zeros((w, h))\n",
    "\n",
    "    for u in range(w):\n",
    "        for v in range(h):\n",
    "            sum_val = 0\n",
    "            for x in range(w):\n",
    "                for y in range(h):\n",
    "                    sum_val += image_block[x, y] * np.cos(((2 * x + 1) * u * np.pi) / (2 * w)) * np.cos(((2 * y + 1) * v * np.pi) / (2 * h))\n",
    "            dct_block[u, v] = 0.25 * alpha(u) * alpha(v) * sum_val\n",
    "\n",
    "    return dct_block\n",
    "\n",
    "def idct_2d_channel_block(dct_block):\n",
    "    \"\"\"Performs 2D IDCT on a single block (e.g., 8x8) of the image\"\"\"\n",
    "    w, h = dct_block.shape\n",
    "    idct_block = np.zeros((w, h))\n",
    "\n",
    "    for x in range(w):\n",
    "        for y in range(h):\n",
    "            sum_val = 0\n",
    "            for u in range(w):\n",
    "                for v in range(h):\n",
    "                    sum_val += alpha(u) * alpha(v) * dct_block[u, v] * np.cos(((2 * x + 1) * u * np.pi) / (2 * w)) * np.cos(((2 * y + 1) * v * np.pi) / (2 * h))\n",
    "            idct_block[x, y] = 0.25 * sum_val\n",
    "\n",
    "    return idct_block\n",
    "\n",
    "def dct_2d(image, block_size=8):\n",
    "    \"\"\"Performs 2D DCT on an image with multiple channels using sliding window\"\"\"\n",
    "    w, h, c = image.shape\n",
    "    dct_image = np.zeros((w, h, c))\n",
    "\n",
    "    # Process the image block by block\n",
    "    for ch in range(c):\n",
    "        for i in range(0, w, block_size):\n",
    "            for j in range(0, h, block_size):\n",
    "                # Get the block\n",
    "                block = image[i:i+block_size, j:j+block_size, ch]\n",
    "                # Apply DCT on the block\n",
    "                dct_block = dct_2d_channel_block(block)\n",
    "                # Store the result in the corresponding position\n",
    "                dct_image[i:i+block_size, j:j+block_size, ch] = dct_block\n",
    "\n",
    "    return dct_image\n",
    "\n",
    "def idct_2d(dct_image, block_size=8):\n",
    "    \"\"\"Performs 2D IDCT on an image with multiple channels using sliding window\"\"\"\n",
    "    w, h, c = dct_image.shape\n",
    "    idct_image = np.zeros((w, h, c))\n",
    "\n",
    "    # Process the image block by block\n",
    "    for ch in range(c):\n",
    "        for i in range(0, w, block_size):\n",
    "            for j in range(0, h, block_size):\n",
    "                # Get the block\n",
    "                dct_block = dct_image[i:i+block_size, j:j+block_size, ch]\n",
    "                # Apply IDCT on the block\n",
    "                idct_block = idct_2d_channel_block(dct_block)\n",
    "                # Store the result in the corresponding position\n",
    "                idct_image[i:i+block_size, j:j+block_size, ch] = idct_block\n",
    "\n",
    "    return idct_image\n",
    "\n",
    "# Example usage:\n",
    "\n",
    "# Create a random 32x32 RGB image\n",
    "image = np.random.rand(224, 224, 3)\n",
    "\n",
    "# Apply 2D-DCT with block size of 8\n",
    "dct_result = dct_2d(image, block_size=8)\n",
    "\n",
    "# Apply 2D-IDCT to recover the original image\n",
    "idct_result = idct_2d(dct_result, block_size=8)\n",
    "\n",
    "# Print results for testing\n",
    "print(\"Original Image:\\n\", image)\n",
    "print(\"DCT Result:\\n\", dct_result)\n",
    "print(\"IDCT Reconstructed Image:\\n\", idct_result)\n",
    "\n",
    "# Check if the original and reconstructed images are close\n",
    "print(\"Reconstruction Error:\\n\", np.abs(image - idct_result).mean())"
   ],
   "id": "6b74b439dc73231",
   "outputs": [
    {
     "name": "stdout",
     "output_type": "stream",
     "text": [
      "Original Image:\n",
      " [[[0.97510306 0.46428133 0.68504411]\n",
      "  [0.94119336 0.12565063 0.81680799]\n",
      "  [0.94423859 0.12724204 0.77420324]\n",
      "  ...\n",
      "  [0.98791387 0.06264774 0.78884065]\n",
      "  [0.78531145 0.47597057 0.1388484 ]\n",
      "  [0.28035375 0.71025921 0.98880802]]\n",
      "\n",
      " [[0.44177815 0.64843623 0.62658591]\n",
      "  [0.54345009 0.66884982 0.4854427 ]\n",
      "  [0.54068426 0.3352705  0.30481425]\n",
      "  ...\n",
      "  [0.28559641 0.96587848 0.19846824]\n",
      "  [0.11230081 0.2765603  0.76871627]\n",
      "  [0.98032281 0.45492745 0.86171242]]\n",
      "\n",
      " [[0.5061728  0.95916076 0.18146066]\n",
      "  [0.2252624  0.00593918 0.1815194 ]\n",
      "  [0.11579679 0.05441222 0.7447968 ]\n",
      "  ...\n",
      "  [0.27144028 0.81325218 0.42227344]\n",
      "  [0.65161275 0.47268545 0.98070014]\n",
      "  [0.79487614 0.30598026 0.34815139]]\n",
      "\n",
      " ...\n",
      "\n",
      " [[0.22114298 0.02110512 0.48017457]\n",
      "  [0.73279973 0.92008616 0.97254948]\n",
      "  [0.74452359 0.85919306 0.42819596]\n",
      "  ...\n",
      "  [0.77733647 0.26237266 0.03995948]\n",
      "  [0.36469584 0.71300694 0.07398485]\n",
      "  [0.18422134 0.35887846 0.05292121]]\n",
      "\n",
      " [[0.33308094 0.08946278 0.18788508]\n",
      "  [0.74647098 0.86925028 0.95906403]\n",
      "  [0.97882448 0.43182868 0.03950492]\n",
      "  ...\n",
      "  [0.99193809 0.96555541 0.77615682]\n",
      "  [0.67656565 0.04372426 0.35282382]\n",
      "  [0.26876254 0.24771666 0.11301851]]\n",
      "\n",
      " [[0.04447695 0.08753941 0.62462764]\n",
      "  [0.38982949 0.78046487 0.29169927]\n",
      "  [0.19091152 0.59623883 0.41848889]\n",
      "  ...\n",
      "  [0.5866509  0.38842209 0.27975911]\n",
      "  [0.98728125 0.27779896 0.7036707 ]\n",
      "  [0.07714027 0.57297411 0.07288386]]]\n",
      "DCT Result:\n",
      " [[[ 3.75719897  4.22080212  4.07002257]\n",
      "  [-0.29532212  0.14862889  0.09547818]\n",
      "  [ 0.38278658  0.19381673  0.20003998]\n",
      "  ...\n",
      "  [ 0.05310273  0.42860664  0.24532938]\n",
      "  [ 0.13743023 -0.1168295  -0.17243601]\n",
      "  [ 0.38888255 -0.6409544  -0.27613851]]\n",
      "\n",
      " [[ 0.3349957  -0.44639136  0.23870105]\n",
      "  [ 0.38169732 -0.36357304 -0.04129164]\n",
      "  [ 0.67993744 -0.21675531 -0.29960643]\n",
      "  ...\n",
      "  [-0.24027565  0.13735434 -0.17767774]\n",
      "  [-0.10919522  0.38421344 -0.21785356]\n",
      "  [-0.35873975 -0.11375286 -0.26684568]]\n",
      "\n",
      " [[-0.43831301 -0.36611581  0.37727133]\n",
      "  [ 0.57174446  0.18957398 -0.02910908]\n",
      "  [-0.12622492  0.2311753  -0.5370324 ]\n",
      "  ...\n",
      "  [ 0.14554528  0.00432571  0.01522738]\n",
      "  [ 0.02167881 -0.36823243  0.66107483]\n",
      "  [-0.01741077 -0.17011838 -0.41866087]]\n",
      "\n",
      " ...\n",
      "\n",
      " [[ 0.01187101  0.11945361 -0.16080993]\n",
      "  [ 0.04813196  0.0137105   0.27994983]\n",
      "  [ 0.47925088 -0.19514701 -0.19357459]\n",
      "  ...\n",
      "  [-0.10422238 -0.12089324 -0.19185906]\n",
      "  [-0.13928851 -0.03600303 -0.00649314]\n",
      "  [-0.06460646 -0.17625024  0.34629791]]\n",
      "\n",
      " [[-0.37619488 -0.07841017  0.24008565]\n",
      "  [-0.06577452  0.67147404  0.19724159]\n",
      "  [-0.16912059  0.10949279 -0.02141659]\n",
      "  ...\n",
      "  [-0.13494084  0.31233629  0.16093296]\n",
      "  [-0.34219674 -0.31031006  0.02642241]\n",
      "  [ 0.26381934  0.11216318  0.21130364]]\n",
      "\n",
      " [[-0.16879064  0.58464776  0.11715226]\n",
      "  [ 0.14290934 -0.12683795 -0.66556633]\n",
      "  [-0.09230188  0.46558059  0.40263925]\n",
      "  ...\n",
      "  [ 0.50219191  0.14067867  0.44218963]\n",
      "  [ 0.11635592  0.18231426  0.33101682]\n",
      "  [ 0.34222089 -0.53144458  0.04780935]]]\n",
      "IDCT Reconstructed Image:\n",
      " [[[0.97510306 0.46428133 0.68504411]\n",
      "  [0.94119336 0.12565063 0.81680799]\n",
      "  [0.94423859 0.12724204 0.77420324]\n",
      "  ...\n",
      "  [0.98791387 0.06264774 0.78884065]\n",
      "  [0.78531145 0.47597057 0.1388484 ]\n",
      "  [0.28035375 0.71025921 0.98880802]]\n",
      "\n",
      " [[0.44177815 0.64843623 0.62658591]\n",
      "  [0.54345009 0.66884982 0.4854427 ]\n",
      "  [0.54068426 0.3352705  0.30481425]\n",
      "  ...\n",
      "  [0.28559641 0.96587848 0.19846824]\n",
      "  [0.11230081 0.2765603  0.76871627]\n",
      "  [0.98032281 0.45492745 0.86171242]]\n",
      "\n",
      " [[0.5061728  0.95916076 0.18146066]\n",
      "  [0.2252624  0.00593918 0.1815194 ]\n",
      "  [0.11579679 0.05441222 0.7447968 ]\n",
      "  ...\n",
      "  [0.27144028 0.81325218 0.42227344]\n",
      "  [0.65161275 0.47268545 0.98070014]\n",
      "  [0.79487614 0.30598026 0.34815139]]\n",
      "\n",
      " ...\n",
      "\n",
      " [[0.22114298 0.02110512 0.48017457]\n",
      "  [0.73279973 0.92008616 0.97254948]\n",
      "  [0.74452359 0.85919306 0.42819596]\n",
      "  ...\n",
      "  [0.77733647 0.26237266 0.03995948]\n",
      "  [0.36469584 0.71300694 0.07398485]\n",
      "  [0.18422134 0.35887846 0.05292121]]\n",
      "\n",
      " [[0.33308094 0.08946278 0.18788508]\n",
      "  [0.74647098 0.86925028 0.95906403]\n",
      "  [0.97882448 0.43182868 0.03950492]\n",
      "  ...\n",
      "  [0.99193809 0.96555541 0.77615682]\n",
      "  [0.67656565 0.04372426 0.35282382]\n",
      "  [0.26876254 0.24771666 0.11301851]]\n",
      "\n",
      " [[0.04447695 0.08753941 0.62462764]\n",
      "  [0.38982949 0.78046487 0.29169927]\n",
      "  [0.19091152 0.59623883 0.41848889]\n",
      "  ...\n",
      "  [0.5866509  0.38842209 0.27975911]\n",
      "  [0.98728125 0.27779896 0.7036707 ]\n",
      "  [0.07714027 0.57297411 0.07288386]]]\n",
      "Reconstruction Error:\n",
      " 3.84821577338314e-16\n"
     ]
    }
   ],
   "execution_count": 15
  },
  {
   "metadata": {
    "ExecuteTime": {
     "end_time": "2024-09-12T00:09:05.376006Z",
     "start_time": "2024-09-12T00:09:05.369273Z"
    }
   },
   "cell_type": "code",
   "source": [
    "x_0 = Image.open('../resource/example/000001.jpg')\n",
    "x_0 = np.array(x_0)\n",
    "x_0 = np.resize(x_0, (8, 8, 3))\n",
    "x_0[0:5, 0:5, 0]"
   ],
   "id": "a7e32b417e2199c5",
   "outputs": [
    {
     "data": {
      "text/plain": [
       "array([[253, 253, 253, 253, 253],\n",
       "       [253, 253, 253, 253, 253],\n",
       "       [254, 254, 254, 254, 254],\n",
       "       [254, 253, 253, 253, 253],\n",
       "       [251, 251, 252, 253, 253]], dtype=uint8)"
      ]
     },
     "execution_count": 12,
     "metadata": {},
     "output_type": "execute_result"
    }
   ],
   "execution_count": 12
  },
  {
   "metadata": {
    "ExecuteTime": {
     "end_time": "2024-09-12T00:09:05.407925Z",
     "start_time": "2024-09-12T00:09:05.391047Z"
    }
   },
   "cell_type": "code",
   "source": [
    "x_dct = np.zeros_like(x_0)\n",
    "for i in range(x_0.shape[2]):\n",
    "    x_dct[:, :, i] = dct_2d_channel(x_0[:, :, i])\n",
    "x_dct[0:5, 0:5, 0]"
   ],
   "id": "8536aa6e81ebbb3b",
   "outputs": [
    {
     "data": {
      "text/plain": [
       "array([[233, 255,   0,   0,   0],\n",
       "       [  0,   1,   0,   0,   0],\n",
       "       [  0,   0,   0,   0,   0],\n",
       "       [253,   0,   0,   0,   0],\n",
       "       [  0, 255,   0,   0,   0]], dtype=uint8)"
      ]
     },
     "execution_count": 13,
     "metadata": {},
     "output_type": "execute_result"
    }
   ],
   "execution_count": 13
  },
  {
   "metadata": {
    "ExecuteTime": {
     "end_time": "2024-09-12T00:09:05.434588Z",
     "start_time": "2024-09-12T00:09:05.409356Z"
    }
   },
   "cell_type": "code",
   "source": [
    "x_idct = np.zeros_like(x_0)\n",
    "for i in range(x_0.shape[2]):\n",
    "    x_idct[:, :, i] = idct_2d_channel(x_dct[:, :, i])\n",
    "x_idct[0:5, 0:5, 0].astype(np.uint8)"
   ],
   "id": "250c6d7d6b5c2321",
   "outputs": [
    {
     "data": {
      "text/plain": [
       "array([[175, 155, 120,  81,  46],\n",
       "       [219, 238,   8,  27,  27],\n",
       "       [ 71,  43,   2, 231, 231],\n",
       "       [248,  11,  34,  35,   0],\n",
       "       [243, 196, 124,  58,  23]], dtype=uint8)"
      ]
     },
     "execution_count": 14,
     "metadata": {},
     "output_type": "execute_result"
    }
   ],
   "execution_count": 14
  },
  {
   "metadata": {},
   "cell_type": "markdown",
   "source": "",
   "id": "14a9f61dce362193"
  },
  {
   "metadata": {
    "ExecuteTime": {
     "end_time": "2024-09-12T00:09:05.437390Z",
     "start_time": "2024-09-12T00:09:05.435770Z"
    }
   },
   "cell_type": "code",
   "source": "",
   "id": "7c148bd25121a398",
   "outputs": [],
   "execution_count": 14
  }
 ],
 "metadata": {
  "kernelspec": {
   "display_name": "Python 3",
   "language": "python",
   "name": "python3"
  },
  "language_info": {
   "codemirror_mode": {
    "name": "ipython",
    "version": 2
   },
   "file_extension": ".py",
   "mimetype": "text/x-python",
   "name": "python",
   "nbconvert_exporter": "python",
   "pygments_lexer": "ipython2",
   "version": "2.7.6"
  }
 },
 "nbformat": 4,
 "nbformat_minor": 5
}
