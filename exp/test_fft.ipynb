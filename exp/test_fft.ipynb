{
 "cells": [
  {
   "cell_type": "code",
   "execution_count": 1,
   "id": "9f8572e8bd0723b5",
   "metadata": {
    "ExecuteTime": {
     "end_time": "2024-09-21T08:31:26.662894Z",
     "start_time": "2024-09-21T08:31:25.025377Z"
    }
   },
   "outputs": [],
   "source": [
    "import sys\n",
    "sys.path.append('../')\n",
    "import numpy as np\n",
    "from scipy.fftpack import fft2, ifft2\n",
    "from torchvision.transforms.transforms import ToTensor, Resize, Compose\n",
    "import PIL.Image as Image\n",
    "\n",
    "from tools.img import tensor2ndarray"
   ]
  },
  {
   "cell_type": "code",
   "execution_count": 2,
   "id": "initial_id",
   "metadata": {
    "ExecuteTime": {
     "end_time": "2024-09-21T08:44:47.403506Z",
     "start_time": "2024-09-21T08:44:47.381919Z"
    },
    "collapsed": true
   },
   "outputs": [
    {
     "data": {
      "text/plain": [
       "(-1.2609134818794233e-14+1.6099202147367587e-32j)"
      ]
     },
     "execution_count": 2,
     "metadata": {},
     "output_type": "execute_result"
    }
   ],
   "source": [
    "img = Image.open('../resource/example/000001.jpg')\n",
    "scale = 224\n",
    "trans = Compose([ToTensor(), Resize((scale, scale))])\n",
    "img = trans(img)\n",
    "x_0 = tensor2ndarray(img)\n",
    "x_ff = []\n",
    "for i in range(3):\n",
    "    x_ff.append(fft2(x_0[:, :, i]))\n",
    "x_ff = np.stack(x_ff, axis=2)\n",
    "x_amplitude, x_phase = np.abs(x_ff), np.angle(x_ff)\n",
    "x_f_re = x_amplitude * np.exp(1j * x_phase)\n",
    "\n",
    "x_re = []\n",
    "for i in range(3):\n",
    "    x_re.append(ifft2(x_f_re[:, :, i]))\n",
    "x_re = np.stack(x_re, axis=2)\n",
    "(x_re - x_0).mean()\n"
   ]
  }
 ],
 "metadata": {
  "kernelspec": {
   "display_name": "Diffusion-Backdoor-Embed",
   "language": "python",
   "name": "python3"
  },
  "language_info": {
   "codemirror_mode": {
    "name": "ipython",
    "version": 3
   },
   "file_extension": ".py",
   "mimetype": "text/x-python",
   "name": "python",
   "nbconvert_exporter": "python",
   "pygments_lexer": "ipython3",
   "version": "3.8.19"
  }
 },
 "nbformat": 4,
 "nbformat_minor": 5
}
