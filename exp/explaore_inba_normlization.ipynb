{
 "cells": [
  {
   "cell_type": "code",
   "execution_count": 16,
   "metadata": {},
   "outputs": [],
   "source": [
    "import sys\n",
    "sys.path.append('../')\n",
    "import torch\n",
    "from tools.utils import manual_seed\n",
    "import PIL\n",
    "import PIL.Image\n",
    "\n",
    "import numpy as np\n",
    "import matplotlib.pyplot as plt\n",
    "from tools.img import rgb2yuv, yuv2rgb, rgb_to_yuv, yuv_to_rgb\n",
    "from torchvision.transforms.transforms import ToTensor\n",
    "from tools.dataset import get_dataloader, get_dataset_class_and_scale, get_dataset_normalization, get_de_normalization\n",
    "from omegaconf import OmegaConf\n",
    "from tools.img import tensor2ndarray, ndarray2tensor\n",
    "from torchmetrics import StructuralSimilarityIndexMeasure\n",
    "from tools.dataset import get_dataloader\n",
    "from tools.inject_backdoor import patch_trigger\n",
    "\n",
    "manual_seed(42)"
   ]
  },
  {
   "cell_type": "code",
   "execution_count": 17,
   "metadata": {},
   "outputs": [
    {
     "data": {
      "text/plain": [
       "PreActResNet(\n",
       "  (conv1): Conv2d(3, 64, kernel_size=(3, 3), stride=(1, 1), padding=(1, 1), bias=False)\n",
       "  (layer1): Sequential(\n",
       "    (0): PreActBlock(\n",
       "      (bn1): BatchNorm2d(64, eps=1e-05, momentum=0.1, affine=True, track_running_stats=True)\n",
       "      (conv1): Conv2d(64, 64, kernel_size=(3, 3), stride=(1, 1), padding=(1, 1), bias=False)\n",
       "      (bn2): BatchNorm2d(64, eps=1e-05, momentum=0.1, affine=True, track_running_stats=True)\n",
       "      (conv2): Conv2d(64, 64, kernel_size=(3, 3), stride=(1, 1), padding=(1, 1), bias=False)\n",
       "    )\n",
       "    (1): PreActBlock(\n",
       "      (bn1): BatchNorm2d(64, eps=1e-05, momentum=0.1, affine=True, track_running_stats=True)\n",
       "      (conv1): Conv2d(64, 64, kernel_size=(3, 3), stride=(1, 1), padding=(1, 1), bias=False)\n",
       "      (bn2): BatchNorm2d(64, eps=1e-05, momentum=0.1, affine=True, track_running_stats=True)\n",
       "      (conv2): Conv2d(64, 64, kernel_size=(3, 3), stride=(1, 1), padding=(1, 1), bias=False)\n",
       "    )\n",
       "  )\n",
       "  (layer2): Sequential(\n",
       "    (0): PreActBlock(\n",
       "      (bn1): BatchNorm2d(64, eps=1e-05, momentum=0.1, affine=True, track_running_stats=True)\n",
       "      (conv1): Conv2d(64, 128, kernel_size=(3, 3), stride=(2, 2), padding=(1, 1), bias=False)\n",
       "      (bn2): BatchNorm2d(128, eps=1e-05, momentum=0.1, affine=True, track_running_stats=True)\n",
       "      (conv2): Conv2d(128, 128, kernel_size=(3, 3), stride=(1, 1), padding=(1, 1), bias=False)\n",
       "      (shortcut): Sequential(\n",
       "        (0): Conv2d(64, 128, kernel_size=(1, 1), stride=(2, 2), bias=False)\n",
       "      )\n",
       "    )\n",
       "    (1): PreActBlock(\n",
       "      (bn1): BatchNorm2d(128, eps=1e-05, momentum=0.1, affine=True, track_running_stats=True)\n",
       "      (conv1): Conv2d(128, 128, kernel_size=(3, 3), stride=(1, 1), padding=(1, 1), bias=False)\n",
       "      (bn2): BatchNorm2d(128, eps=1e-05, momentum=0.1, affine=True, track_running_stats=True)\n",
       "      (conv2): Conv2d(128, 128, kernel_size=(3, 3), stride=(1, 1), padding=(1, 1), bias=False)\n",
       "    )\n",
       "  )\n",
       "  (layer3): Sequential(\n",
       "    (0): PreActBlock(\n",
       "      (bn1): BatchNorm2d(128, eps=1e-05, momentum=0.1, affine=True, track_running_stats=True)\n",
       "      (conv1): Conv2d(128, 256, kernel_size=(3, 3), stride=(2, 2), padding=(1, 1), bias=False)\n",
       "      (bn2): BatchNorm2d(256, eps=1e-05, momentum=0.1, affine=True, track_running_stats=True)\n",
       "      (conv2): Conv2d(256, 256, kernel_size=(3, 3), stride=(1, 1), padding=(1, 1), bias=False)\n",
       "      (shortcut): Sequential(\n",
       "        (0): Conv2d(128, 256, kernel_size=(1, 1), stride=(2, 2), bias=False)\n",
       "      )\n",
       "    )\n",
       "    (1): PreActBlock(\n",
       "      (bn1): BatchNorm2d(256, eps=1e-05, momentum=0.1, affine=True, track_running_stats=True)\n",
       "      (conv1): Conv2d(256, 256, kernel_size=(3, 3), stride=(1, 1), padding=(1, 1), bias=False)\n",
       "      (bn2): BatchNorm2d(256, eps=1e-05, momentum=0.1, affine=True, track_running_stats=True)\n",
       "      (conv2): Conv2d(256, 256, kernel_size=(3, 3), stride=(1, 1), padding=(1, 1), bias=False)\n",
       "    )\n",
       "  )\n",
       "  (layer4): Sequential(\n",
       "    (0): PreActBlock(\n",
       "      (bn1): BatchNorm2d(256, eps=1e-05, momentum=0.1, affine=True, track_running_stats=True)\n",
       "      (conv1): Conv2d(256, 512, kernel_size=(3, 3), stride=(2, 2), padding=(1, 1), bias=False)\n",
       "      (bn2): BatchNorm2d(512, eps=1e-05, momentum=0.1, affine=True, track_running_stats=True)\n",
       "      (conv2): Conv2d(512, 512, kernel_size=(3, 3), stride=(1, 1), padding=(1, 1), bias=False)\n",
       "      (shortcut): Sequential(\n",
       "        (0): Conv2d(256, 512, kernel_size=(1, 1), stride=(2, 2), bias=False)\n",
       "      )\n",
       "    )\n",
       "    (1): PreActBlock(\n",
       "      (bn1): BatchNorm2d(512, eps=1e-05, momentum=0.1, affine=True, track_running_stats=True)\n",
       "      (conv1): Conv2d(512, 512, kernel_size=(3, 3), stride=(1, 1), padding=(1, 1), bias=False)\n",
       "      (bn2): BatchNorm2d(512, eps=1e-05, momentum=0.1, affine=True, track_running_stats=True)\n",
       "      (conv2): Conv2d(512, 512, kernel_size=(3, 3), stride=(1, 1), padding=(1, 1), bias=False)\n",
       "    )\n",
       "  )\n",
       "  (avgpool): AdaptiveAvgPool2d(output_size=(1, 1))\n",
       "  (linear): Linear(in_features=512, out_features=10, bias=True)\n",
       ")"
      ]
     },
     "execution_count": 17,
     "metadata": {},
     "output_type": "execute_result"
    }
   ],
   "source": [
    "target_folder = '../' + 'results/cifar10/inba/20241009152026'\n",
    "path = f'{target_folder}/config.yaml'\n",
    "config = OmegaConf.load(path)\n",
    "manual_seed(config.seed)\n",
    "\n",
    "device = f'cuda:{config.device}'\n",
    "num_class, scale = get_dataset_class_and_scale(config.dataset_name)\n",
    "if config.model == \"resnet18\":\n",
    "    from models.preact_resnet import PreActResNet18\n",
    "    net = PreActResNet18(num_classes=num_class).to(f'cuda:{config.device}')\n",
    "elif config.model == \"rnp\":\n",
    "    from models.resnet_cifar import resnet18\n",
    "    net = resnet18(num_classes=num_class).to(f'cuda:{config.device}')\n",
    "elif config.model == \"repvgg\":\n",
    "    from repvgg_pytorch.repvgg import RepVGG\n",
    "    net = RepVGG(num_blocks=[2, 4, 14, 1], num_classes=num_class, width_multiplier=[1.5, 1.5, 1.5, 2.75]).to(device=f'cuda:{config.device}')\n",
    "else:\n",
    "    raise NotImplementedError(config.model)\n",
    "ld = torch.load(f'{target_folder}/results.pth', map_location=device)\n",
    "net.load_state_dict(ld['model'])\n",
    "net.to(device)"
   ]
  },
  {
   "cell_type": "markdown",
   "metadata": {},
   "source": [
    "Load a example image and plot RGB channels."
   ]
  },
  {
   "cell_type": "markdown",
   "metadata": {},
   "source": [
    "Convert the RGB image to YUV channels, and plot them."
   ]
  },
  {
   "cell_type": "markdown",
   "metadata": {},
   "source": [
    "Use INBA to add pertubation to the imaginary part of U channel after FFT."
   ]
  },
  {
   "cell_type": "code",
   "execution_count": 18,
   "metadata": {},
   "outputs": [
    {
     "data": {
      "image/png": "[encoded data removed]",
      "text/plain": [
       "<Figure size 1500x1000 with 2 Axes>"
      ]
     },
     "metadata": {},
     "output_type": "display_data"
    },
    {
     "name": "stdout",
     "output_type": "stream",
     "text": [
      "ssim: 0.9995750188827515\n",
      "0\n",
      "0\n",
      "tensor([[0.9569, 0.9451, 0.9490,  ..., 0.9255, 0.9255, 0.9216],\n",
      "        [0.9569, 0.9451, 0.9529,  ..., 0.9294, 0.9294, 0.9216],\n",
      "        [0.9569, 0.9529, 0.9569,  ..., 0.9255, 0.9255, 0.9216],\n",
      "        ...,\n",
      "        [0.7020, 0.6902, 0.6941,  ..., 0.6941, 0.7098, 0.7255],\n",
      "        [0.7255, 0.7137, 0.7176,  ..., 0.7725, 0.7647, 0.7608],\n",
      "        [0.7451, 0.7490, 0.7529,  ..., 0.7765, 0.7725, 0.7686]],\n",
      "       device='cuda:0')\n",
      "----------\n",
      "tensor([[0.9569, 0.9451, 0.9490,  ..., 0.9255, 0.9255, 0.9216],\n",
      "        [0.9569, 0.9451, 0.9529,  ..., 0.9294, 0.9294, 0.9216],\n",
      "        [0.9569, 0.9529, 0.9569,  ..., 0.9255, 0.9255, 0.9216],\n",
      "        ...,\n",
      "        [0.7020, 0.6902, 0.6941,  ..., 0.6941, 0.7098, 0.7255],\n",
      "        [0.7255, 0.7137, 0.7176,  ..., 0.7725, 0.7647, 0.7608],\n",
      "        [0.7451, 0.7490, 0.7529,  ..., 0.7765, 0.7725, 0.7686]],\n",
      "       device='cuda:0', grad_fn=<SelectBackward0>)\n"
     ]
    },
    {
     "data": {
      "text/plain": [
       "tensor(2.9524e-06, device='cuda:0', grad_fn=<MeanBackward0>)"
      ]
     },
     "execution_count": 18,
     "metadata": {},
     "output_type": "execute_result"
    }
   ],
   "source": [
    "_, test_dl = get_dataloader(config.dataset_name, config.batch, False, 11)\n",
    "x_c = None\n",
    "for batch, label in test_dl:\n",
    "    for i in range(batch.shape[0]):\n",
    "        if label[i] == 9:\n",
    "            x_c = batch[i]\n",
    "            break\n",
    "x_c = get_de_normalization(config.dataset_name)(x_c).squeeze()\n",
    "x_p = patch_trigger(x_c, config)\n",
    "\n",
    "_, ax = plt.subplots(1, 2, figsize=(15, 10))\n",
    "ax[0].imshow(tensor2ndarray(x_c))\n",
    "ax[0].axis('off')\n",
    "ax[1].imshow(tensor2ndarray(x_p))\n",
    "ax[1].axis('off')\n",
    "plt.show()\n",
    "ssim_metric = StructuralSimilarityIndexMeasure(data_range=1.0)(x_c.unsqueeze(0), x_p.unsqueeze(0))\n",
    "print(f'ssim: {ssim_metric}')\n",
    "\n",
    "\n",
    "x_p = patch_trigger(x_c, config)\n",
    "# x_c = get_dataset_normalization(config.dataset_name)(x_c)\n",
    "\n",
    "\n",
    "# when training, we do not perform normalization to poison images, which is the same as BackdoorBench.\n",
    "\n",
    "x_c = x_c.to(device)\n",
    "x_p = x_p.to(device)\n",
    "\n",
    "if config.model == 'repvgg':\n",
    "    net.deploy = True\n",
    "net.eval()\n",
    "with torch.no_grad():\n",
    "    out_c = net(x_c.unsqueeze(0))\n",
    "    out_p = net(x_p.unsqueeze(0))\n",
    "    _, y_c = torch.max(out_c, 1)\n",
    "    _, y_p = torch.max(out_p, 1)\n",
    "\n",
    "print(y_c.item())\n",
    "print(y_p.item())\n",
    "print(x_c[0])\n",
    "print('----------')\n",
    "print(x_p[0])\n",
    "\n",
    "(x_c - x_p).mean()"
   ]
  },
  {
   "cell_type": "markdown",
   "metadata": {},
   "source": []
  }
 ],
 "metadata": {
  "kernelspec": {
   "display_name": "Diffusion-Backdoor-Embed",
   "language": "python",
   "name": "python3"
  },
  "language_info": {
   "codemirror_mode": {
    "name": "ipython",
    "version": 3
   },
   "file_extension": ".py",
   "mimetype": "text/x-python",
   "name": "python",
   "nbconvert_exporter": "python",
   "pygments_lexer": "ipython3",
   "version": "3.8.19"
  }
 },
 "nbformat": 4,
 "nbformat_minor": 2
}
