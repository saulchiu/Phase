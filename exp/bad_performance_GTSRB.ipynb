{
 "cells": [
  {
   "cell_type": "code",
   "execution_count": 23,
   "metadata": {},
   "outputs": [],
   "source": [
    "import sys\n",
    "sys.path.append('../')\n",
    "\n",
    "from tools.dataset import get_dataloader\n"
   ]
  },
  {
   "cell_type": "code",
   "execution_count": 24,
   "metadata": {},
   "outputs": [
    {
     "data": {
      "text/plain": [
       "torch.Size([3, 32, 32])"
      ]
     },
     "execution_count": 24,
     "metadata": {},
     "output_type": "execute_result"
    }
   ],
   "source": [
    "dataset_name = 'gtsrb'\n",
    "_, _, ld = get_dataloader(dataset_name, batch_size=1)\n",
    "\n",
    "for x, _ in iter(ld):\n",
    "    break\n",
    "\n",
    "x = x.squeeze()\n",
    "x.shape"
   ]
  },
  {
   "cell_type": "code",
   "execution_count": 25,
   "metadata": {},
   "outputs": [
    {
     "data": {
      "text/plain": [
       "array([[   0.        ,  -37.08588124, -569.39523226],\n",
       "       [ -53.32292216, -161.60724311,  321.13707599],\n",
       "       [-112.05995986,  293.18420073, -499.12282451]])"
      ]
     },
     "execution_count": 25,
     "metadata": {},
     "output_type": "execute_result"
    }
   ],
   "source": [
    "from tools.img import fft_2d_3c, ifft_2d_3c\n",
    "from tools.img import tensor2ndarray, ndarray2tensor\n",
    "from tools.img import rgb2yuv, yuv2rgb\n",
    "import numpy as np\n",
    "\n",
    "x = tensor2ndarray(x)\n",
    "x_yuv = rgb2yuv(x)\n",
    "x_u = x_yuv[:, :, 1]\n",
    "x_u_fft = np.fft.fft2(x_u)\n",
    "x_u_fft_im = x_u_fft.imag\n",
    "x_u_fft_im[:3, :3]"
   ]
  }
 ],
 "metadata": {
  "kernelspec": {
   "display_name": "Diffusion-Backdoor-Embed",
   "language": "python",
   "name": "python3"
  },
  "language_info": {
   "codemirror_mode": {
    "name": "ipython",
    "version": 3
   },
   "file_extension": ".py",
   "mimetype": "text/x-python",
   "name": "python",
   "nbconvert_exporter": "python",
   "pygments_lexer": "ipython3",
   "version": "3.8.19"
  }
 },
 "nbformat": 4,
 "nbformat_minor": 2
}
