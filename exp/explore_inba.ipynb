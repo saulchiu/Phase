{
 "cells": [
  {
   "cell_type": "code",
   "execution_count": 37,
   "metadata": {},
   "outputs": [],
   "source": [
    "import sys\n",
    "sys.path.append('../')\n",
    "import torch\n",
    "from tools.utils import manual_seed\n",
    "import PIL\n",
    "import PIL.Image\n",
    "\n",
    "import numpy as np\n",
    "import matplotlib.pyplot as plt\n",
    "from tools.img import rgb2yuv, yuv2rgb, rgb_to_yuv, yuv_to_rgb\n",
    "from torchvision.transforms.transforms import ToTensor\n",
    "from tools.dataset import get_dataloader, get_dataset_class_and_scale, get_dataset_normalization, get_de_normalization\n",
    "from omegaconf import OmegaConf\n",
    "from tools.img import tensor2ndarray, ndarray2tensor\n",
    "from torchmetrics import StructuralSimilarityIndexMeasure\n",
    "from tools.dataset import get_dataloader\n",
    "from tools.inject_backdoor import patch_trigger\n",
    "\n",
    "manual_seed(42)"
   ]
  },
  {
   "cell_type": "code",
   "execution_count": 38,
   "metadata": {},
   "outputs": [
    {
     "data": {
      "text/plain": [
       "tensor(8.4538e-07, dtype=torch.float64)"
      ]
     },
     "execution_count": 38,
     "metadata": {},
     "output_type": "execute_result"
    }
   ],
   "source": [
    "train_dl, test_dl = get_dataloader('cifar10', 64, False, 8)\n",
    "x_c = None\n",
    "y_c = None\n",
    "for batch, label in test_dl:\n",
    "    batch = get_de_normalization('cifar10')(batch)\n",
    "    for i in range(batch.shape[0]):\n",
    "        if label[i] == 3:\n",
    "            x_c = batch[i]\n",
    "            y_c = label[i]\n",
    "            break\n",
    "    if x_c != None:\n",
    "        break\n",
    "\n",
    "x_p = x_c.clone().to(torch.float64)\n",
    "\n",
    "x_p_yuv = torch.stack(rgb_to_yuv(x_p[0], x_p[1], x_p[2]), dim=0)\n",
    "x_p_rgb = torch.stack(yuv_to_rgb(x_p_yuv[0], x_p_yuv[1], x_p_yuv[2]))\n",
    "\n",
    "\n",
    "(x_c - x_p_rgb).mean()\n"
   ]
  },
  {
   "cell_type": "code",
   "execution_count": null,
   "metadata": {},
   "outputs": [],
   "source": []
  }
 ],
 "metadata": {
  "kernelspec": {
   "display_name": "Diffusion-Backdoor-Embed",
   "language": "python",
   "name": "python3"
  },
  "language_info": {
   "codemirror_mode": {
    "name": "ipython",
    "version": 3
   },
   "file_extension": ".py",
   "mimetype": "text/x-python",
   "name": "python",
   "nbconvert_exporter": "python",
   "pygments_lexer": "ipython3",
   "version": "3.8.19"
  }
 },
 "nbformat": 4,
 "nbformat_minor": 2
}
